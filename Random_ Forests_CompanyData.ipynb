{
 "cells": [
  {
   "cell_type": "code",
   "execution_count": 2,
   "id": "0ce0fdf5",
   "metadata": {},
   "outputs": [
    {
     "data": {
      "text/html": [
       "<div>\n",
       "<style scoped>\n",
       "    .dataframe tbody tr th:only-of-type {\n",
       "        vertical-align: middle;\n",
       "    }\n",
       "\n",
       "    .dataframe tbody tr th {\n",
       "        vertical-align: top;\n",
       "    }\n",
       "\n",
       "    .dataframe thead th {\n",
       "        text-align: right;\n",
       "    }\n",
       "</style>\n",
       "<table border=\"1\" class=\"dataframe\">\n",
       "  <thead>\n",
       "    <tr style=\"text-align: right;\">\n",
       "      <th></th>\n",
       "      <th>Sales</th>\n",
       "      <th>CompPrice</th>\n",
       "      <th>Income</th>\n",
       "      <th>Advertising</th>\n",
       "      <th>Population</th>\n",
       "      <th>Price</th>\n",
       "      <th>ShelveLoc</th>\n",
       "      <th>Age</th>\n",
       "      <th>Education</th>\n",
       "      <th>Urban</th>\n",
       "      <th>US</th>\n",
       "    </tr>\n",
       "  </thead>\n",
       "  <tbody>\n",
       "    <tr>\n",
       "      <th>0</th>\n",
       "      <td>9.50</td>\n",
       "      <td>138</td>\n",
       "      <td>73</td>\n",
       "      <td>11</td>\n",
       "      <td>276</td>\n",
       "      <td>120</td>\n",
       "      <td>Bad</td>\n",
       "      <td>42</td>\n",
       "      <td>17</td>\n",
       "      <td>Yes</td>\n",
       "      <td>Yes</td>\n",
       "    </tr>\n",
       "    <tr>\n",
       "      <th>1</th>\n",
       "      <td>11.22</td>\n",
       "      <td>111</td>\n",
       "      <td>48</td>\n",
       "      <td>16</td>\n",
       "      <td>260</td>\n",
       "      <td>83</td>\n",
       "      <td>Good</td>\n",
       "      <td>65</td>\n",
       "      <td>10</td>\n",
       "      <td>Yes</td>\n",
       "      <td>Yes</td>\n",
       "    </tr>\n",
       "    <tr>\n",
       "      <th>2</th>\n",
       "      <td>10.06</td>\n",
       "      <td>113</td>\n",
       "      <td>35</td>\n",
       "      <td>10</td>\n",
       "      <td>269</td>\n",
       "      <td>80</td>\n",
       "      <td>Medium</td>\n",
       "      <td>59</td>\n",
       "      <td>12</td>\n",
       "      <td>Yes</td>\n",
       "      <td>Yes</td>\n",
       "    </tr>\n",
       "    <tr>\n",
       "      <th>3</th>\n",
       "      <td>7.40</td>\n",
       "      <td>117</td>\n",
       "      <td>100</td>\n",
       "      <td>4</td>\n",
       "      <td>466</td>\n",
       "      <td>97</td>\n",
       "      <td>Medium</td>\n",
       "      <td>55</td>\n",
       "      <td>14</td>\n",
       "      <td>Yes</td>\n",
       "      <td>Yes</td>\n",
       "    </tr>\n",
       "    <tr>\n",
       "      <th>4</th>\n",
       "      <td>4.15</td>\n",
       "      <td>141</td>\n",
       "      <td>64</td>\n",
       "      <td>3</td>\n",
       "      <td>340</td>\n",
       "      <td>128</td>\n",
       "      <td>Bad</td>\n",
       "      <td>38</td>\n",
       "      <td>13</td>\n",
       "      <td>Yes</td>\n",
       "      <td>No</td>\n",
       "    </tr>\n",
       "    <tr>\n",
       "      <th>...</th>\n",
       "      <td>...</td>\n",
       "      <td>...</td>\n",
       "      <td>...</td>\n",
       "      <td>...</td>\n",
       "      <td>...</td>\n",
       "      <td>...</td>\n",
       "      <td>...</td>\n",
       "      <td>...</td>\n",
       "      <td>...</td>\n",
       "      <td>...</td>\n",
       "      <td>...</td>\n",
       "    </tr>\n",
       "    <tr>\n",
       "      <th>395</th>\n",
       "      <td>12.57</td>\n",
       "      <td>138</td>\n",
       "      <td>108</td>\n",
       "      <td>17</td>\n",
       "      <td>203</td>\n",
       "      <td>128</td>\n",
       "      <td>Good</td>\n",
       "      <td>33</td>\n",
       "      <td>14</td>\n",
       "      <td>Yes</td>\n",
       "      <td>Yes</td>\n",
       "    </tr>\n",
       "    <tr>\n",
       "      <th>396</th>\n",
       "      <td>6.14</td>\n",
       "      <td>139</td>\n",
       "      <td>23</td>\n",
       "      <td>3</td>\n",
       "      <td>37</td>\n",
       "      <td>120</td>\n",
       "      <td>Medium</td>\n",
       "      <td>55</td>\n",
       "      <td>11</td>\n",
       "      <td>No</td>\n",
       "      <td>Yes</td>\n",
       "    </tr>\n",
       "    <tr>\n",
       "      <th>397</th>\n",
       "      <td>7.41</td>\n",
       "      <td>162</td>\n",
       "      <td>26</td>\n",
       "      <td>12</td>\n",
       "      <td>368</td>\n",
       "      <td>159</td>\n",
       "      <td>Medium</td>\n",
       "      <td>40</td>\n",
       "      <td>18</td>\n",
       "      <td>Yes</td>\n",
       "      <td>Yes</td>\n",
       "    </tr>\n",
       "    <tr>\n",
       "      <th>398</th>\n",
       "      <td>5.94</td>\n",
       "      <td>100</td>\n",
       "      <td>79</td>\n",
       "      <td>7</td>\n",
       "      <td>284</td>\n",
       "      <td>95</td>\n",
       "      <td>Bad</td>\n",
       "      <td>50</td>\n",
       "      <td>12</td>\n",
       "      <td>Yes</td>\n",
       "      <td>Yes</td>\n",
       "    </tr>\n",
       "    <tr>\n",
       "      <th>399</th>\n",
       "      <td>9.71</td>\n",
       "      <td>134</td>\n",
       "      <td>37</td>\n",
       "      <td>0</td>\n",
       "      <td>27</td>\n",
       "      <td>120</td>\n",
       "      <td>Good</td>\n",
       "      <td>49</td>\n",
       "      <td>16</td>\n",
       "      <td>Yes</td>\n",
       "      <td>Yes</td>\n",
       "    </tr>\n",
       "  </tbody>\n",
       "</table>\n",
       "<p>400 rows × 11 columns</p>\n",
       "</div>"
      ],
      "text/plain": [
       "     Sales  CompPrice  Income  Advertising  Population  Price ShelveLoc  Age  \\\n",
       "0     9.50        138      73           11         276    120       Bad   42   \n",
       "1    11.22        111      48           16         260     83      Good   65   \n",
       "2    10.06        113      35           10         269     80    Medium   59   \n",
       "3     7.40        117     100            4         466     97    Medium   55   \n",
       "4     4.15        141      64            3         340    128       Bad   38   \n",
       "..     ...        ...     ...          ...         ...    ...       ...  ...   \n",
       "395  12.57        138     108           17         203    128      Good   33   \n",
       "396   6.14        139      23            3          37    120    Medium   55   \n",
       "397   7.41        162      26           12         368    159    Medium   40   \n",
       "398   5.94        100      79            7         284     95       Bad   50   \n",
       "399   9.71        134      37            0          27    120      Good   49   \n",
       "\n",
       "     Education Urban   US  \n",
       "0           17   Yes  Yes  \n",
       "1           10   Yes  Yes  \n",
       "2           12   Yes  Yes  \n",
       "3           14   Yes  Yes  \n",
       "4           13   Yes   No  \n",
       "..         ...   ...  ...  \n",
       "395         14   Yes  Yes  \n",
       "396         11    No  Yes  \n",
       "397         18   Yes  Yes  \n",
       "398         12   Yes  Yes  \n",
       "399         16   Yes  Yes  \n",
       "\n",
       "[400 rows x 11 columns]"
      ]
     },
     "execution_count": 2,
     "metadata": {},
     "output_type": "execute_result"
    }
   ],
   "source": [
    "import pandas as pd\n",
    "import matplotlib.pyplot as plt\n",
    "from sklearn import datasets  \n",
    "import numpy as np\n",
    "from sklearn.model_selection import train_test_split\n",
    "from sklearn.tree import  DecisionTreeClassifier\n",
    "from sklearn import tree\n",
    "from sklearn.metrics import classification_report\n",
    "df = pd.read_csv('D:\\excelR\\Random_Forest\\Company_Data.csv')\n",
    "df"
   ]
  },
  {
   "cell_type": "markdown",
   "id": "280df34a",
   "metadata": {},
   "source": [
    "# EDA\n"
   ]
  },
  {
   "cell_type": "code",
   "execution_count": 3,
   "id": "c89539bd",
   "metadata": {},
   "outputs": [
    {
     "data": {
      "text/plain": [
       "Sales          False\n",
       "CompPrice      False\n",
       "Income         False\n",
       "Advertising    False\n",
       "Population     False\n",
       "Price          False\n",
       "ShelveLoc      False\n",
       "Age            False\n",
       "Education      False\n",
       "Urban          False\n",
       "US             False\n",
       "dtype: bool"
      ]
     },
     "execution_count": 3,
     "metadata": {},
     "output_type": "execute_result"
    }
   ],
   "source": [
    "df.isnull().any()"
   ]
  },
  {
   "cell_type": "code",
   "execution_count": 4,
   "id": "f5f81457",
   "metadata": {},
   "outputs": [
    {
     "data": {
      "text/html": [
       "<div>\n",
       "<style scoped>\n",
       "    .dataframe tbody tr th:only-of-type {\n",
       "        vertical-align: middle;\n",
       "    }\n",
       "\n",
       "    .dataframe tbody tr th {\n",
       "        vertical-align: top;\n",
       "    }\n",
       "\n",
       "    .dataframe thead th {\n",
       "        text-align: right;\n",
       "    }\n",
       "</style>\n",
       "<table border=\"1\" class=\"dataframe\">\n",
       "  <thead>\n",
       "    <tr style=\"text-align: right;\">\n",
       "      <th></th>\n",
       "      <th>Sales</th>\n",
       "      <th>CompPrice</th>\n",
       "      <th>Income</th>\n",
       "      <th>Advertising</th>\n",
       "      <th>Population</th>\n",
       "      <th>Price</th>\n",
       "      <th>Age</th>\n",
       "      <th>Education</th>\n",
       "    </tr>\n",
       "  </thead>\n",
       "  <tbody>\n",
       "    <tr>\n",
       "      <th>count</th>\n",
       "      <td>400.000000</td>\n",
       "      <td>400.000000</td>\n",
       "      <td>400.000000</td>\n",
       "      <td>400.000000</td>\n",
       "      <td>400.000000</td>\n",
       "      <td>400.000000</td>\n",
       "      <td>400.000000</td>\n",
       "      <td>400.000000</td>\n",
       "    </tr>\n",
       "    <tr>\n",
       "      <th>mean</th>\n",
       "      <td>7.496325</td>\n",
       "      <td>124.975000</td>\n",
       "      <td>68.657500</td>\n",
       "      <td>6.635000</td>\n",
       "      <td>264.840000</td>\n",
       "      <td>115.795000</td>\n",
       "      <td>53.322500</td>\n",
       "      <td>13.900000</td>\n",
       "    </tr>\n",
       "    <tr>\n",
       "      <th>std</th>\n",
       "      <td>2.824115</td>\n",
       "      <td>15.334512</td>\n",
       "      <td>27.986037</td>\n",
       "      <td>6.650364</td>\n",
       "      <td>147.376436</td>\n",
       "      <td>23.676664</td>\n",
       "      <td>16.200297</td>\n",
       "      <td>2.620528</td>\n",
       "    </tr>\n",
       "    <tr>\n",
       "      <th>min</th>\n",
       "      <td>0.000000</td>\n",
       "      <td>77.000000</td>\n",
       "      <td>21.000000</td>\n",
       "      <td>0.000000</td>\n",
       "      <td>10.000000</td>\n",
       "      <td>24.000000</td>\n",
       "      <td>25.000000</td>\n",
       "      <td>10.000000</td>\n",
       "    </tr>\n",
       "    <tr>\n",
       "      <th>25%</th>\n",
       "      <td>5.390000</td>\n",
       "      <td>115.000000</td>\n",
       "      <td>42.750000</td>\n",
       "      <td>0.000000</td>\n",
       "      <td>139.000000</td>\n",
       "      <td>100.000000</td>\n",
       "      <td>39.750000</td>\n",
       "      <td>12.000000</td>\n",
       "    </tr>\n",
       "    <tr>\n",
       "      <th>50%</th>\n",
       "      <td>7.490000</td>\n",
       "      <td>125.000000</td>\n",
       "      <td>69.000000</td>\n",
       "      <td>5.000000</td>\n",
       "      <td>272.000000</td>\n",
       "      <td>117.000000</td>\n",
       "      <td>54.500000</td>\n",
       "      <td>14.000000</td>\n",
       "    </tr>\n",
       "    <tr>\n",
       "      <th>75%</th>\n",
       "      <td>9.320000</td>\n",
       "      <td>135.000000</td>\n",
       "      <td>91.000000</td>\n",
       "      <td>12.000000</td>\n",
       "      <td>398.500000</td>\n",
       "      <td>131.000000</td>\n",
       "      <td>66.000000</td>\n",
       "      <td>16.000000</td>\n",
       "    </tr>\n",
       "    <tr>\n",
       "      <th>max</th>\n",
       "      <td>16.270000</td>\n",
       "      <td>175.000000</td>\n",
       "      <td>120.000000</td>\n",
       "      <td>29.000000</td>\n",
       "      <td>509.000000</td>\n",
       "      <td>191.000000</td>\n",
       "      <td>80.000000</td>\n",
       "      <td>18.000000</td>\n",
       "    </tr>\n",
       "  </tbody>\n",
       "</table>\n",
       "</div>"
      ],
      "text/plain": [
       "            Sales   CompPrice      Income  Advertising  Population  \\\n",
       "count  400.000000  400.000000  400.000000   400.000000  400.000000   \n",
       "mean     7.496325  124.975000   68.657500     6.635000  264.840000   \n",
       "std      2.824115   15.334512   27.986037     6.650364  147.376436   \n",
       "min      0.000000   77.000000   21.000000     0.000000   10.000000   \n",
       "25%      5.390000  115.000000   42.750000     0.000000  139.000000   \n",
       "50%      7.490000  125.000000   69.000000     5.000000  272.000000   \n",
       "75%      9.320000  135.000000   91.000000    12.000000  398.500000   \n",
       "max     16.270000  175.000000  120.000000    29.000000  509.000000   \n",
       "\n",
       "            Price         Age   Education  \n",
       "count  400.000000  400.000000  400.000000  \n",
       "mean   115.795000   53.322500   13.900000  \n",
       "std     23.676664   16.200297    2.620528  \n",
       "min     24.000000   25.000000   10.000000  \n",
       "25%    100.000000   39.750000   12.000000  \n",
       "50%    117.000000   54.500000   14.000000  \n",
       "75%    131.000000   66.000000   16.000000  \n",
       "max    191.000000   80.000000   18.000000  "
      ]
     },
     "execution_count": 4,
     "metadata": {},
     "output_type": "execute_result"
    }
   ],
   "source": [
    "df.describe()"
   ]
  },
  {
   "cell_type": "code",
   "execution_count": 5,
   "id": "595a5e16",
   "metadata": {},
   "outputs": [
    {
     "data": {
      "text/html": [
       "<div>\n",
       "<style scoped>\n",
       "    .dataframe tbody tr th:only-of-type {\n",
       "        vertical-align: middle;\n",
       "    }\n",
       "\n",
       "    .dataframe tbody tr th {\n",
       "        vertical-align: top;\n",
       "    }\n",
       "\n",
       "    .dataframe thead th {\n",
       "        text-align: right;\n",
       "    }\n",
       "</style>\n",
       "<table border=\"1\" class=\"dataframe\">\n",
       "  <thead>\n",
       "    <tr style=\"text-align: right;\">\n",
       "      <th></th>\n",
       "      <th>Sales</th>\n",
       "      <th>CompPrice</th>\n",
       "      <th>Income</th>\n",
       "      <th>Advertising</th>\n",
       "      <th>Population</th>\n",
       "      <th>Price</th>\n",
       "      <th>ShelveLoc</th>\n",
       "      <th>Age</th>\n",
       "      <th>Education</th>\n",
       "      <th>Urban</th>\n",
       "      <th>US</th>\n",
       "    </tr>\n",
       "  </thead>\n",
       "  <tbody>\n",
       "    <tr>\n",
       "      <th>0</th>\n",
       "      <td>9.50</td>\n",
       "      <td>138</td>\n",
       "      <td>73</td>\n",
       "      <td>11</td>\n",
       "      <td>276</td>\n",
       "      <td>120</td>\n",
       "      <td>0</td>\n",
       "      <td>42</td>\n",
       "      <td>17</td>\n",
       "      <td>1</td>\n",
       "      <td>1</td>\n",
       "    </tr>\n",
       "    <tr>\n",
       "      <th>1</th>\n",
       "      <td>11.22</td>\n",
       "      <td>111</td>\n",
       "      <td>48</td>\n",
       "      <td>16</td>\n",
       "      <td>260</td>\n",
       "      <td>83</td>\n",
       "      <td>1</td>\n",
       "      <td>65</td>\n",
       "      <td>10</td>\n",
       "      <td>1</td>\n",
       "      <td>1</td>\n",
       "    </tr>\n",
       "    <tr>\n",
       "      <th>2</th>\n",
       "      <td>10.06</td>\n",
       "      <td>113</td>\n",
       "      <td>35</td>\n",
       "      <td>10</td>\n",
       "      <td>269</td>\n",
       "      <td>80</td>\n",
       "      <td>2</td>\n",
       "      <td>59</td>\n",
       "      <td>12</td>\n",
       "      <td>1</td>\n",
       "      <td>1</td>\n",
       "    </tr>\n",
       "    <tr>\n",
       "      <th>3</th>\n",
       "      <td>7.40</td>\n",
       "      <td>117</td>\n",
       "      <td>100</td>\n",
       "      <td>4</td>\n",
       "      <td>466</td>\n",
       "      <td>97</td>\n",
       "      <td>2</td>\n",
       "      <td>55</td>\n",
       "      <td>14</td>\n",
       "      <td>1</td>\n",
       "      <td>1</td>\n",
       "    </tr>\n",
       "    <tr>\n",
       "      <th>4</th>\n",
       "      <td>4.15</td>\n",
       "      <td>141</td>\n",
       "      <td>64</td>\n",
       "      <td>3</td>\n",
       "      <td>340</td>\n",
       "      <td>128</td>\n",
       "      <td>0</td>\n",
       "      <td>38</td>\n",
       "      <td>13</td>\n",
       "      <td>1</td>\n",
       "      <td>0</td>\n",
       "    </tr>\n",
       "    <tr>\n",
       "      <th>...</th>\n",
       "      <td>...</td>\n",
       "      <td>...</td>\n",
       "      <td>...</td>\n",
       "      <td>...</td>\n",
       "      <td>...</td>\n",
       "      <td>...</td>\n",
       "      <td>...</td>\n",
       "      <td>...</td>\n",
       "      <td>...</td>\n",
       "      <td>...</td>\n",
       "      <td>...</td>\n",
       "    </tr>\n",
       "    <tr>\n",
       "      <th>395</th>\n",
       "      <td>12.57</td>\n",
       "      <td>138</td>\n",
       "      <td>108</td>\n",
       "      <td>17</td>\n",
       "      <td>203</td>\n",
       "      <td>128</td>\n",
       "      <td>1</td>\n",
       "      <td>33</td>\n",
       "      <td>14</td>\n",
       "      <td>1</td>\n",
       "      <td>1</td>\n",
       "    </tr>\n",
       "    <tr>\n",
       "      <th>396</th>\n",
       "      <td>6.14</td>\n",
       "      <td>139</td>\n",
       "      <td>23</td>\n",
       "      <td>3</td>\n",
       "      <td>37</td>\n",
       "      <td>120</td>\n",
       "      <td>2</td>\n",
       "      <td>55</td>\n",
       "      <td>11</td>\n",
       "      <td>0</td>\n",
       "      <td>1</td>\n",
       "    </tr>\n",
       "    <tr>\n",
       "      <th>397</th>\n",
       "      <td>7.41</td>\n",
       "      <td>162</td>\n",
       "      <td>26</td>\n",
       "      <td>12</td>\n",
       "      <td>368</td>\n",
       "      <td>159</td>\n",
       "      <td>2</td>\n",
       "      <td>40</td>\n",
       "      <td>18</td>\n",
       "      <td>1</td>\n",
       "      <td>1</td>\n",
       "    </tr>\n",
       "    <tr>\n",
       "      <th>398</th>\n",
       "      <td>5.94</td>\n",
       "      <td>100</td>\n",
       "      <td>79</td>\n",
       "      <td>7</td>\n",
       "      <td>284</td>\n",
       "      <td>95</td>\n",
       "      <td>0</td>\n",
       "      <td>50</td>\n",
       "      <td>12</td>\n",
       "      <td>1</td>\n",
       "      <td>1</td>\n",
       "    </tr>\n",
       "    <tr>\n",
       "      <th>399</th>\n",
       "      <td>9.71</td>\n",
       "      <td>134</td>\n",
       "      <td>37</td>\n",
       "      <td>0</td>\n",
       "      <td>27</td>\n",
       "      <td>120</td>\n",
       "      <td>1</td>\n",
       "      <td>49</td>\n",
       "      <td>16</td>\n",
       "      <td>1</td>\n",
       "      <td>1</td>\n",
       "    </tr>\n",
       "  </tbody>\n",
       "</table>\n",
       "<p>400 rows × 11 columns</p>\n",
       "</div>"
      ],
      "text/plain": [
       "     Sales  CompPrice  Income  Advertising  Population  Price  ShelveLoc  Age  \\\n",
       "0     9.50        138      73           11         276    120          0   42   \n",
       "1    11.22        111      48           16         260     83          1   65   \n",
       "2    10.06        113      35           10         269     80          2   59   \n",
       "3     7.40        117     100            4         466     97          2   55   \n",
       "4     4.15        141      64            3         340    128          0   38   \n",
       "..     ...        ...     ...          ...         ...    ...        ...  ...   \n",
       "395  12.57        138     108           17         203    128          1   33   \n",
       "396   6.14        139      23            3          37    120          2   55   \n",
       "397   7.41        162      26           12         368    159          2   40   \n",
       "398   5.94        100      79            7         284     95          0   50   \n",
       "399   9.71        134      37            0          27    120          1   49   \n",
       "\n",
       "     Education  Urban  US  \n",
       "0           17      1   1  \n",
       "1           10      1   1  \n",
       "2           12      1   1  \n",
       "3           14      1   1  \n",
       "4           13      1   0  \n",
       "..         ...    ...  ..  \n",
       "395         14      1   1  \n",
       "396         11      0   1  \n",
       "397         18      1   1  \n",
       "398         12      1   1  \n",
       "399         16      1   1  \n",
       "\n",
       "[400 rows x 11 columns]"
      ]
     },
     "execution_count": 5,
     "metadata": {},
     "output_type": "execute_result"
    }
   ],
   "source": [
    "from sklearn.preprocessing import LabelEncoder\n",
    "cols = ['ShelveLoc', 'Urban', 'US']\n",
    "df[cols] = df[cols].apply(LabelEncoder().fit_transform)\n",
    "df2 = df\n",
    "df2"
   ]
  },
  {
   "cell_type": "code",
   "execution_count": 6,
   "id": "84ebe553",
   "metadata": {},
   "outputs": [
    {
     "data": {
      "image/png": "[encoded data removed]",
      "text/plain": [
       "<Figure size 1152x360 with 2 Axes>"
      ]
     },
     "metadata": {
      "needs_background": "light"
     },
     "output_type": "display_data"
    }
   ],
   "source": [
    "import seaborn as sns \n",
    "plt.figure(figsize = (16,5))\n",
    "corr_plot = sns.heatmap(df2.corr(),annot = True,linewidths=3)\n",
    "plt.title(\"Correlation plot\")\n",
    "plt.show()"
   ]
  },
  {
   "cell_type": "code",
   "execution_count": 7,
   "id": "c8d7ea1f",
   "metadata": {},
   "outputs": [
    {
     "data": {
      "text/html": [
       "<div>\n",
       "<style scoped>\n",
       "    .dataframe tbody tr th:only-of-type {\n",
       "        vertical-align: middle;\n",
       "    }\n",
       "\n",
       "    .dataframe tbody tr th {\n",
       "        vertical-align: top;\n",
       "    }\n",
       "\n",
       "    .dataframe thead th {\n",
       "        text-align: right;\n",
       "    }\n",
       "</style>\n",
       "<table border=\"1\" class=\"dataframe\">\n",
       "  <thead>\n",
       "    <tr style=\"text-align: right;\">\n",
       "      <th></th>\n",
       "      <th>Sales</th>\n",
       "      <th>CompPrice</th>\n",
       "      <th>Income</th>\n",
       "      <th>Advertising</th>\n",
       "      <th>Population</th>\n",
       "      <th>Price</th>\n",
       "      <th>ShelveLoc</th>\n",
       "      <th>Age</th>\n",
       "      <th>Education</th>\n",
       "      <th>Urban</th>\n",
       "      <th>US</th>\n",
       "      <th>Saleslabels</th>\n",
       "    </tr>\n",
       "  </thead>\n",
       "  <tbody>\n",
       "    <tr>\n",
       "      <th>0</th>\n",
       "      <td>9.50</td>\n",
       "      <td>138</td>\n",
       "      <td>73</td>\n",
       "      <td>11</td>\n",
       "      <td>276</td>\n",
       "      <td>120</td>\n",
       "      <td>0</td>\n",
       "      <td>42</td>\n",
       "      <td>17</td>\n",
       "      <td>1</td>\n",
       "      <td>1</td>\n",
       "      <td>Average</td>\n",
       "    </tr>\n",
       "    <tr>\n",
       "      <th>1</th>\n",
       "      <td>11.22</td>\n",
       "      <td>111</td>\n",
       "      <td>48</td>\n",
       "      <td>16</td>\n",
       "      <td>260</td>\n",
       "      <td>83</td>\n",
       "      <td>1</td>\n",
       "      <td>65</td>\n",
       "      <td>10</td>\n",
       "      <td>1</td>\n",
       "      <td>1</td>\n",
       "      <td>High</td>\n",
       "    </tr>\n",
       "    <tr>\n",
       "      <th>2</th>\n",
       "      <td>10.06</td>\n",
       "      <td>113</td>\n",
       "      <td>35</td>\n",
       "      <td>10</td>\n",
       "      <td>269</td>\n",
       "      <td>80</td>\n",
       "      <td>2</td>\n",
       "      <td>59</td>\n",
       "      <td>12</td>\n",
       "      <td>1</td>\n",
       "      <td>1</td>\n",
       "      <td>High</td>\n",
       "    </tr>\n",
       "    <tr>\n",
       "      <th>3</th>\n",
       "      <td>7.40</td>\n",
       "      <td>117</td>\n",
       "      <td>100</td>\n",
       "      <td>4</td>\n",
       "      <td>466</td>\n",
       "      <td>97</td>\n",
       "      <td>2</td>\n",
       "      <td>55</td>\n",
       "      <td>14</td>\n",
       "      <td>1</td>\n",
       "      <td>1</td>\n",
       "      <td>Average</td>\n",
       "    </tr>\n",
       "    <tr>\n",
       "      <th>4</th>\n",
       "      <td>4.15</td>\n",
       "      <td>141</td>\n",
       "      <td>64</td>\n",
       "      <td>3</td>\n",
       "      <td>340</td>\n",
       "      <td>128</td>\n",
       "      <td>0</td>\n",
       "      <td>38</td>\n",
       "      <td>13</td>\n",
       "      <td>1</td>\n",
       "      <td>0</td>\n",
       "      <td>Low</td>\n",
       "    </tr>\n",
       "    <tr>\n",
       "      <th>...</th>\n",
       "      <td>...</td>\n",
       "      <td>...</td>\n",
       "      <td>...</td>\n",
       "      <td>...</td>\n",
       "      <td>...</td>\n",
       "      <td>...</td>\n",
       "      <td>...</td>\n",
       "      <td>...</td>\n",
       "      <td>...</td>\n",
       "      <td>...</td>\n",
       "      <td>...</td>\n",
       "      <td>...</td>\n",
       "    </tr>\n",
       "    <tr>\n",
       "      <th>395</th>\n",
       "      <td>12.57</td>\n",
       "      <td>138</td>\n",
       "      <td>108</td>\n",
       "      <td>17</td>\n",
       "      <td>203</td>\n",
       "      <td>128</td>\n",
       "      <td>1</td>\n",
       "      <td>33</td>\n",
       "      <td>14</td>\n",
       "      <td>1</td>\n",
       "      <td>1</td>\n",
       "      <td>High</td>\n",
       "    </tr>\n",
       "    <tr>\n",
       "      <th>396</th>\n",
       "      <td>6.14</td>\n",
       "      <td>139</td>\n",
       "      <td>23</td>\n",
       "      <td>3</td>\n",
       "      <td>37</td>\n",
       "      <td>120</td>\n",
       "      <td>2</td>\n",
       "      <td>55</td>\n",
       "      <td>11</td>\n",
       "      <td>0</td>\n",
       "      <td>1</td>\n",
       "      <td>Average</td>\n",
       "    </tr>\n",
       "    <tr>\n",
       "      <th>397</th>\n",
       "      <td>7.41</td>\n",
       "      <td>162</td>\n",
       "      <td>26</td>\n",
       "      <td>12</td>\n",
       "      <td>368</td>\n",
       "      <td>159</td>\n",
       "      <td>2</td>\n",
       "      <td>40</td>\n",
       "      <td>18</td>\n",
       "      <td>1</td>\n",
       "      <td>1</td>\n",
       "      <td>Average</td>\n",
       "    </tr>\n",
       "    <tr>\n",
       "      <th>398</th>\n",
       "      <td>5.94</td>\n",
       "      <td>100</td>\n",
       "      <td>79</td>\n",
       "      <td>7</td>\n",
       "      <td>284</td>\n",
       "      <td>95</td>\n",
       "      <td>0</td>\n",
       "      <td>50</td>\n",
       "      <td>12</td>\n",
       "      <td>1</td>\n",
       "      <td>1</td>\n",
       "      <td>Average</td>\n",
       "    </tr>\n",
       "    <tr>\n",
       "      <th>399</th>\n",
       "      <td>9.71</td>\n",
       "      <td>134</td>\n",
       "      <td>37</td>\n",
       "      <td>0</td>\n",
       "      <td>27</td>\n",
       "      <td>120</td>\n",
       "      <td>1</td>\n",
       "      <td>49</td>\n",
       "      <td>16</td>\n",
       "      <td>1</td>\n",
       "      <td>1</td>\n",
       "      <td>Average</td>\n",
       "    </tr>\n",
       "  </tbody>\n",
       "</table>\n",
       "<p>400 rows × 12 columns</p>\n",
       "</div>"
      ],
      "text/plain": [
       "     Sales  CompPrice  Income  Advertising  Population  Price  ShelveLoc  Age  \\\n",
       "0     9.50        138      73           11         276    120          0   42   \n",
       "1    11.22        111      48           16         260     83          1   65   \n",
       "2    10.06        113      35           10         269     80          2   59   \n",
       "3     7.40        117     100            4         466     97          2   55   \n",
       "4     4.15        141      64            3         340    128          0   38   \n",
       "..     ...        ...     ...          ...         ...    ...        ...  ...   \n",
       "395  12.57        138     108           17         203    128          1   33   \n",
       "396   6.14        139      23            3          37    120          2   55   \n",
       "397   7.41        162      26           12         368    159          2   40   \n",
       "398   5.94        100      79            7         284     95          0   50   \n",
       "399   9.71        134      37            0          27    120          1   49   \n",
       "\n",
       "     Education  Urban  US Saleslabels  \n",
       "0           17      1   1     Average  \n",
       "1           10      1   1        High  \n",
       "2           12      1   1        High  \n",
       "3           14      1   1     Average  \n",
       "4           13      1   0         Low  \n",
       "..         ...    ...  ..         ...  \n",
       "395         14      1   1        High  \n",
       "396         11      0   1     Average  \n",
       "397         18      1   1     Average  \n",
       "398         12      1   1     Average  \n",
       "399         16      1   1     Average  \n",
       "\n",
       "[400 rows x 12 columns]"
      ]
     },
     "execution_count": 7,
     "metadata": {},
     "output_type": "execute_result"
    }
   ],
   "source": [
    "df2['Saleslabels'] = pd.cut(x=df2['Sales'], bins=[0,5,10, 20], labels=['Low', 'Average','High'], right=False)\n",
    "df3=df2\n",
    "df3"
   ]
  },
  {
   "cell_type": "markdown",
   "id": "864d56b9",
   "metadata": {},
   "source": [
    "# Model Validation"
   ]
  },
  {
   "cell_type": "markdown",
   "id": "5e6babb9",
   "metadata": {},
   "source": [
    "# Train-Test-Split"
   ]
  },
  {
   "cell_type": "code",
   "execution_count": 8,
   "id": "4108c9ab",
   "metadata": {},
   "outputs": [
    {
     "name": "stdout",
     "output_type": "stream",
     "text": [
      "train size X :  (320, 10)\n",
      "train size y :  (320,)\n",
      "test size X :  (80, 10)\n",
      "test size y :  (80,)\n"
     ]
    }
   ],
   "source": [
    "from sklearn.model_selection import train_test_split\n",
    "y = df3.pop(\"Saleslabels\")\n",
    "X = df3.iloc[:,1:12]\n",
    "\n",
    "X_train,X_test,y_train,y_test = train_test_split(X,y,random_state=0,train_size=0.8)\n",
    "\n",
    "print(\"train size X : \",X_train.shape)\n",
    "print(\"train size y : \",y_train.shape)\n",
    "print(\"test size X : \",X_test.shape)\n",
    "print(\"test size y : \",y_test.shape)"
   ]
  },
  {
   "cell_type": "markdown",
   "id": "c9a9fab7",
   "metadata": {},
   "source": [
    "# Bagging\n",
    "# Bagging Classifier"
   ]
  },
  {
   "cell_type": "code",
   "execution_count": 9,
   "id": "95b23996",
   "metadata": {},
   "outputs": [],
   "source": [
    "from sklearn.metrics import confusion_matrix, accuracy_score, classification_report\n",
    "\n",
    "\n",
    "def evaluate(model, X_train, X_test, y_train, y_test):\n",
    "    y_test_pred = model.predict(X_test)\n",
    "    y_train_pred = model.predict(X_train)\n",
    "\n",
    "    print(\"TRAINIG RESULTS: \\n===============================\")\n",
    "    clf_report = pd.DataFrame(classification_report(y_train, y_train_pred, output_dict=True))\n",
    "    print(f\"CONFUSION MATRIX:\\n{confusion_matrix(y_train, y_train_pred)}\")\n",
    "    print(f\"ACCURACY SCORE:\\n{accuracy_score(y_train, y_train_pred):.4f}\")\n",
    "    print(f\"CLASSIFICATION REPORT:\\n{clf_report}\")\n",
    "\n",
    "    print(\"TESTING RESULTS: \\n===============================\")\n",
    "    clf_report = pd.DataFrame(classification_report(y_test, y_test_pred, output_dict=True))\n",
    "    print(f\"CONFUSION MATRIX:\\n{confusion_matrix(y_test, y_test_pred)}\")\n",
    "    print(f\"ACCURACY SCORE:\\n{accuracy_score(y_test, y_test_pred):.4f}\")\n",
    "    print(f\"CLASSIFICATION REPORT:\\n{clf_report}\")\n"
   ]
  },
  {
   "cell_type": "code",
   "execution_count": 10,
   "id": "11146329",
   "metadata": {},
   "outputs": [
    {
     "name": "stdout",
     "output_type": "stream",
     "text": [
      "TRAINIG RESULTS: \n",
      "===============================\n",
      "CONFUSION MATRIX:\n",
      "[[196   0   0]\n",
      " [  0  61   0]\n",
      " [  0   0  63]]\n",
      "ACCURACY SCORE:\n",
      "1.0000\n",
      "CLASSIFICATION REPORT:\n",
      "           Average  High   Low  accuracy  macro avg  weighted avg\n",
      "precision      1.0   1.0   1.0       1.0        1.0           1.0\n",
      "recall         1.0   1.0   1.0       1.0        1.0           1.0\n",
      "f1-score       1.0   1.0   1.0       1.0        1.0           1.0\n",
      "support      196.0  61.0  63.0       1.0      320.0         320.0\n",
      "TESTING RESULTS: \n",
      "===============================\n",
      "CONFUSION MATRIX:\n",
      "[[43  3  2]\n",
      " [ 7 11  0]\n",
      " [ 6  0  8]]\n",
      "ACCURACY SCORE:\n",
      "0.7750\n",
      "CLASSIFICATION REPORT:\n",
      "             Average       High        Low  accuracy  macro avg  weighted avg\n",
      "precision   0.767857   0.785714   0.800000     0.775   0.784524      0.777500\n",
      "recall      0.895833   0.611111   0.571429     0.775   0.692791      0.775000\n",
      "f1-score    0.826923   0.687500   0.666667     0.775   0.727030      0.767508\n",
      "support    48.000000  18.000000  14.000000     0.775  80.000000     80.000000\n"
     ]
    }
   ],
   "source": [
    "from sklearn.ensemble import BaggingClassifier\n",
    "from sklearn.tree import DecisionTreeClassifier\n",
    "\n",
    "tree = DecisionTreeClassifier()\n",
    "bagging_clf = BaggingClassifier(base_estimator=tree, n_estimators=100, random_state=42)\n",
    "bagging_clf.fit(X_train, y_train)\n",
    "\n",
    "evaluate(bagging_clf, X_train, X_test, y_train, y_test)"
   ]
  },
  {
   "cell_type": "code",
   "execution_count": 11,
   "id": "b524d1ea",
   "metadata": {},
   "outputs": [
    {
     "data": {
      "text/plain": [
       "{'Bagging Classifier': {'Train': 1.0, 'Test': 0.775}}"
      ]
     },
     "execution_count": 11,
     "metadata": {},
     "output_type": "execute_result"
    }
   ],
   "source": [
    "scores = {\n",
    "    'Bagging Classifier': {\n",
    "        'Train': accuracy_score(y_train, bagging_clf.predict(X_train)),\n",
    "        'Test': accuracy_score(y_test, bagging_clf.predict(X_test)),\n",
    "    },\n",
    "}\n",
    "scores"
   ]
  },
  {
   "cell_type": "markdown",
   "id": "406d4b04",
   "metadata": {},
   "source": [
    "# Random Forest"
   ]
  },
  {
   "cell_type": "code",
   "execution_count": 12,
   "id": "96cb1582",
   "metadata": {},
   "outputs": [
    {
     "name": "stdout",
     "output_type": "stream",
     "text": [
      "TRAINIG RESULTS: \n",
      "===============================\n",
      "CONFUSION MATRIX:\n",
      "[[196   0   0]\n",
      " [  0  61   0]\n",
      " [  0   0  63]]\n",
      "ACCURACY SCORE:\n",
      "1.0000\n",
      "CLASSIFICATION REPORT:\n",
      "           Average  High   Low  accuracy  macro avg  weighted avg\n",
      "precision      1.0   1.0   1.0       1.0        1.0           1.0\n",
      "recall         1.0   1.0   1.0       1.0        1.0           1.0\n",
      "f1-score       1.0   1.0   1.0       1.0        1.0           1.0\n",
      "support      196.0  61.0  63.0       1.0      320.0         320.0\n",
      "TESTING RESULTS: \n",
      "===============================\n",
      "CONFUSION MATRIX:\n",
      "[[45  1  2]\n",
      " [ 8 10  0]\n",
      " [ 9  0  5]]\n",
      "ACCURACY SCORE:\n",
      "0.7500\n",
      "CLASSIFICATION REPORT:\n",
      "             Average       High        Low  accuracy  macro avg  weighted avg\n",
      "precision   0.725806   0.909091   0.714286      0.75   0.783061      0.765029\n",
      "recall      0.937500   0.555556   0.357143      0.75   0.616733      0.750000\n",
      "f1-score    0.818182   0.689655   0.476190      0.75   0.661342      0.729415\n",
      "support    48.000000  18.000000  14.000000      0.75  80.000000     80.000000\n"
     ]
    }
   ],
   "source": [
    "from sklearn.ensemble import RandomForestClassifier\n",
    "\n",
    "rf_clf = RandomForestClassifier(random_state=42, n_estimators=100)\n",
    "rf_clf.fit(X_train, y_train)\n",
    "evaluate(rf_clf, X_train, X_test, y_train, y_test)"
   ]
  },
  {
   "cell_type": "code",
   "execution_count": 13,
   "id": "50fb4233",
   "metadata": {},
   "outputs": [
    {
     "data": {
      "text/plain": [
       "{'Bagging Classifier': {'Train': 1.0, 'Test': 0.775},\n",
       " 'Random Forest': {'Train': 1.0, 'Test': 0.75}}"
      ]
     },
     "execution_count": 13,
     "metadata": {},
     "output_type": "execute_result"
    }
   ],
   "source": [
    "scores['Random Forest'] = {\n",
    "        'Train': accuracy_score(y_train, rf_clf.predict(X_train)),\n",
    "        'Test': accuracy_score(y_test, rf_clf.predict(X_test)),\n",
    "    }\n",
    "scores"
   ]
  },
  {
   "cell_type": "code",
   "execution_count": 14,
   "id": "1d7e041e",
   "metadata": {},
   "outputs": [
    {
     "name": "stdout",
     "output_type": "stream",
     "text": [
      "TRAINIG RESULTS: \n",
      "===============================\n",
      "CONFUSION MATRIX:\n",
      "[[196   0   0]\n",
      " [  0  61   0]\n",
      " [  0   0  63]]\n",
      "ACCURACY SCORE:\n",
      "1.0000\n",
      "CLASSIFICATION REPORT:\n",
      "           Average  High   Low  accuracy  macro avg  weighted avg\n",
      "precision      1.0   1.0   1.0       1.0        1.0           1.0\n",
      "recall         1.0   1.0   1.0       1.0        1.0           1.0\n",
      "f1-score       1.0   1.0   1.0       1.0        1.0           1.0\n",
      "support      196.0  61.0  63.0       1.0      320.0         320.0\n",
      "TESTING RESULTS: \n",
      "===============================\n",
      "CONFUSION MATRIX:\n",
      "[[43  2  3]\n",
      " [ 5 13  0]\n",
      " [ 7  0  7]]\n",
      "ACCURACY SCORE:\n",
      "0.7875\n",
      "CLASSIFICATION REPORT:\n",
      "             Average       High        Low  accuracy  macro avg  weighted avg\n",
      "precision   0.781818   0.866667   0.700000    0.7875   0.782828      0.786591\n",
      "recall      0.895833   0.722222   0.500000    0.7875   0.706019      0.787500\n",
      "f1-score    0.834951   0.787879   0.583333    0.7875   0.735388      0.780327\n",
      "support    48.000000  18.000000  14.000000    0.7875  80.000000     80.000000\n"
     ]
    }
   ],
   "source": [
    "from sklearn.ensemble import ExtraTreesClassifier\n",
    "\n",
    "ex_tree_clf = ExtraTreesClassifier(n_estimators=100, max_features=5, random_state=42)\n",
    "ex_tree_clf.fit(X_train, y_train)\n",
    "evaluate(ex_tree_clf, X_train, X_test, y_train, y_test)"
   ]
  },
  {
   "cell_type": "code",
   "execution_count": 15,
   "id": "de2ec1ca",
   "metadata": {},
   "outputs": [
    {
     "data": {
      "text/plain": [
       "{'Bagging Classifier': {'Train': 1.0, 'Test': 0.775},\n",
       " 'Random Forest': {'Train': 1.0, 'Test': 0.75},\n",
       " 'Extra Tree': {'Train': 1.0, 'Test': 0.7875}}"
      ]
     },
     "execution_count": 15,
     "metadata": {},
     "output_type": "execute_result"
    }
   ],
   "source": [
    "scores['Extra Tree'] = {\n",
    "        'Train': accuracy_score(y_train, ex_tree_clf.predict(X_train)),\n",
    "        'Test': accuracy_score(y_test, ex_tree_clf.predict(X_test)),\n",
    "    }\n",
    "scores"
   ]
  },
  {
   "cell_type": "markdown",
   "id": "b18e8b4b",
   "metadata": {},
   "source": [
    "# Boosting \n",
    "# Adaboost"
   ]
  },
  {
   "cell_type": "code",
   "execution_count": 16,
   "id": "04323ad5",
   "metadata": {},
   "outputs": [
    {
     "name": "stdout",
     "output_type": "stream",
     "text": [
      "TRAINIG RESULTS: \n",
      "===============================\n",
      "CONFUSION MATRIX:\n",
      "[[178   4  14]\n",
      " [ 26  35   0]\n",
      " [ 37   0  26]]\n",
      "ACCURACY SCORE:\n",
      "0.7469\n",
      "CLASSIFICATION REPORT:\n",
      "              Average       High        Low  accuracy   macro avg  \\\n",
      "precision    0.738589   0.897436   0.650000  0.746875    0.762008   \n",
      "recall       0.908163   0.573770   0.412698  0.746875    0.631544   \n",
      "f1-score     0.814645   0.700000   0.504854  0.746875    0.673167   \n",
      "support    196.000000  61.000000  63.000000  0.746875  320.000000   \n",
      "\n",
      "           weighted avg  \n",
      "precision      0.751428  \n",
      "recall         0.746875  \n",
      "f1-score       0.731801  \n",
      "support      320.000000  \n",
      "TESTING RESULTS: \n",
      "===============================\n",
      "CONFUSION MATRIX:\n",
      "[[47  1  0]\n",
      " [ 7 11  0]\n",
      " [11  0  3]]\n",
      "ACCURACY SCORE:\n",
      "0.7625\n",
      "CLASSIFICATION REPORT:\n",
      "             Average       High        Low  accuracy  macro avg  weighted avg\n",
      "precision   0.723077   0.916667   1.000000    0.7625   0.879915      0.815096\n",
      "recall      0.979167   0.611111   0.214286    0.7625   0.601521      0.762500\n",
      "f1-score    0.831858   0.733333   0.352941    0.7625   0.639378      0.725880\n",
      "support    48.000000  18.000000  14.000000    0.7625  80.000000     80.000000\n"
     ]
    }
   ],
   "source": [
    "from sklearn.ensemble import AdaBoostClassifier\n",
    "\n",
    "ada_boost_clf = AdaBoostClassifier(n_estimators=30)\n",
    "ada_boost_clf.fit(X_train, y_train)\n",
    "evaluate(ada_boost_clf, X_train, X_test, y_train, y_test)"
   ]
  },
  {
   "cell_type": "code",
   "execution_count": 17,
   "id": "b10736dc",
   "metadata": {},
   "outputs": [
    {
     "data": {
      "text/plain": [
       "{'Bagging Classifier': {'Train': 1.0, 'Test': 0.775},\n",
       " 'Random Forest': {'Train': 1.0, 'Test': 0.75},\n",
       " 'Extra Tree': {'Train': 1.0, 'Test': 0.7875},\n",
       " 'AdaBoost': {'Train': 0.746875, 'Test': 0.7625}}"
      ]
     },
     "execution_count": 17,
     "metadata": {},
     "output_type": "execute_result"
    }
   ],
   "source": [
    "scores['AdaBoost'] = {\n",
    "        'Train': accuracy_score(y_train, ada_boost_clf.predict(X_train)),\n",
    "        'Test': accuracy_score(y_test, ada_boost_clf.predict(X_test)),\n",
    "    }\n",
    "scores"
   ]
  },
  {
   "cell_type": "markdown",
   "id": "7ebaab96",
   "metadata": {},
   "source": [
    "# Stochastic Gradient Boosting"
   ]
  },
  {
   "cell_type": "code",
   "execution_count": 18,
   "id": "07be4251",
   "metadata": {},
   "outputs": [
    {
     "name": "stdout",
     "output_type": "stream",
     "text": [
      "TRAINIG RESULTS: \n",
      "===============================\n",
      "CONFUSION MATRIX:\n",
      "[[196   0   0]\n",
      " [  0  61   0]\n",
      " [  1   0  62]]\n",
      "ACCURACY SCORE:\n",
      "0.9969\n",
      "CLASSIFICATION REPORT:\n",
      "              Average  High        Low  accuracy   macro avg  weighted avg\n",
      "precision    0.994924   1.0   1.000000  0.996875    0.998308      0.996891\n",
      "recall       1.000000   1.0   0.984127  0.996875    0.994709      0.996875\n",
      "f1-score     0.997455   1.0   0.992000  0.996875    0.996485      0.996866\n",
      "support    196.000000  61.0  63.000000  0.996875  320.000000    320.000000\n",
      "TESTING RESULTS: \n",
      "===============================\n",
      "CONFUSION MATRIX:\n",
      "[[40  6  2]\n",
      " [ 5 12  1]\n",
      " [ 8  0  6]]\n",
      "ACCURACY SCORE:\n",
      "0.7250\n",
      "CLASSIFICATION REPORT:\n",
      "             Average       High        Low  accuracy  macro avg  weighted avg\n",
      "precision   0.754717   0.666667   0.666667     0.725   0.696017      0.719497\n",
      "recall      0.833333   0.666667   0.428571     0.725   0.642857      0.725000\n",
      "f1-score    0.792079   0.666667   0.521739     0.725   0.660162      0.716552\n",
      "support    48.000000  18.000000  14.000000     0.725  80.000000     80.000000\n"
     ]
    }
   ],
   "source": [
    "from sklearn.ensemble import GradientBoostingClassifier\n",
    "\n",
    "grad_boost_clf = GradientBoostingClassifier(n_estimators=100, random_state=42)\n",
    "grad_boost_clf.fit(X_train, y_train)\n",
    "evaluate(grad_boost_clf, X_train, X_test, y_train, y_test)"
   ]
  },
  {
   "cell_type": "code",
   "execution_count": 19,
   "id": "96fcc8ff",
   "metadata": {},
   "outputs": [
    {
     "data": {
      "text/plain": [
       "{'Bagging Classifier': {'Train': 1.0, 'Test': 0.775},\n",
       " 'Random Forest': {'Train': 1.0, 'Test': 0.75},\n",
       " 'Extra Tree': {'Train': 1.0, 'Test': 0.7875},\n",
       " 'AdaBoost': {'Train': 0.746875, 'Test': 0.7625},\n",
       " 'Gradient Boosting': {'Train': 0.996875, 'Test': 0.725}}"
      ]
     },
     "execution_count": 19,
     "metadata": {},
     "output_type": "execute_result"
    }
   ],
   "source": [
    "scores['Gradient Boosting'] = {\n",
    "        'Train': accuracy_score(y_train, grad_boost_clf.predict(X_train)),\n",
    "        'Test': accuracy_score(y_test, grad_boost_clf.predict(X_test)),\n",
    "    }\n",
    "scores"
   ]
  },
  {
   "cell_type": "markdown",
   "id": "9f72f0d7",
   "metadata": {},
   "source": [
    "# Stacking \n",
    "# Voting Ensemble"
   ]
  },
  {
   "cell_type": "code",
   "execution_count": 20,
   "id": "0c277593",
   "metadata": {},
   "outputs": [
    {
     "name": "stdout",
     "output_type": "stream",
     "text": [
      "TRAINIG RESULTS: \n",
      "===============================\n",
      "CONFUSION MATRIX:\n",
      "[[196   0   0]\n",
      " [ 38  23   0]\n",
      " [ 31   0  32]]\n",
      "ACCURACY SCORE:\n",
      "0.7844\n",
      "CLASSIFICATION REPORT:\n",
      "              Average       High        Low  accuracy   macro avg  \\\n",
      "precision    0.739623   1.000000   1.000000  0.784375    0.913208   \n",
      "recall       1.000000   0.377049   0.507937  0.784375    0.628329   \n",
      "f1-score     0.850325   0.547619   0.673684  0.784375    0.690543   \n",
      "support    196.000000  61.000000  63.000000  0.784375  320.000000   \n",
      "\n",
      "           weighted avg  \n",
      "precision      0.840519  \n",
      "recall         0.784375  \n",
      "f1-score       0.757846  \n",
      "support      320.000000  \n",
      "TESTING RESULTS: \n",
      "===============================\n",
      "CONFUSION MATRIX:\n",
      "[[47  0  1]\n",
      " [13  5  0]\n",
      " [11  0  3]]\n",
      "ACCURACY SCORE:\n",
      "0.6875\n",
      "CLASSIFICATION REPORT:\n",
      "             Average       High        Low  accuracy  macro avg  weighted avg\n",
      "precision   0.661972   1.000000   0.750000    0.6875   0.803991      0.753433\n",
      "recall      0.979167   0.277778   0.214286    0.6875   0.490410      0.687500\n",
      "f1-score    0.789916   0.434783   0.333333    0.6875   0.519344      0.630109\n",
      "support    48.000000  18.000000  14.000000    0.6875  80.000000     80.000000\n"
     ]
    }
   ],
   "source": [
    "from sklearn.ensemble import VotingClassifier\n",
    "from sklearn.linear_model import LogisticRegression\n",
    "from sklearn.svm import SVC\n",
    "\n",
    "estimators = []\n",
    "log_reg = LogisticRegression(solver='liblinear')\n",
    "estimators.append(('Logistic', log_reg))\n",
    "\n",
    "tree = DecisionTreeClassifier()\n",
    "estimators.append(('Tree', tree))\n",
    "\n",
    "svm_clf = SVC(gamma='scale')\n",
    "estimators.append(('SVM', svm_clf))\n",
    "\n",
    "voting = VotingClassifier(estimators=estimators)\n",
    "voting.fit(X_train, y_train)\n",
    "\n",
    "evaluate(voting, X_train, X_test, y_train, y_test)"
   ]
  },
  {
   "cell_type": "code",
   "execution_count": 21,
   "id": "e342a540",
   "metadata": {},
   "outputs": [
    {
     "data": {
      "text/plain": [
       "{'Bagging Classifier': {'Train': 1.0, 'Test': 0.775},\n",
       " 'Random Forest': {'Train': 1.0, 'Test': 0.75},\n",
       " 'Extra Tree': {'Train': 1.0, 'Test': 0.7875},\n",
       " 'AdaBoost': {'Train': 0.746875, 'Test': 0.7625},\n",
       " 'Gradient Boosting': {'Train': 0.996875, 'Test': 0.725},\n",
       " 'Voting': {'Train': 0.784375, 'Test': 0.6875}}"
      ]
     },
     "execution_count": 21,
     "metadata": {},
     "output_type": "execute_result"
    }
   ],
   "source": [
    "scores['Voting'] = {\n",
    "        'Train': accuracy_score(y_train, voting.predict(X_train)),\n",
    "        'Test': accuracy_score(y_test, voting.predict(X_test)),\n",
    "    }\n",
    "scores"
   ]
  },
  {
   "cell_type": "markdown",
   "id": "a2864088",
   "metadata": {},
   "source": [
    "# Comparing Models"
   ]
  },
  {
   "cell_type": "code",
   "execution_count": 22,
   "id": "3084180a",
   "metadata": {},
   "outputs": [
    {
     "data": {
      "text/plain": [
       "<AxesSubplot:>"
      ]
     },
     "execution_count": 22,
     "metadata": {},
     "output_type": "execute_result"
    },
    {
     "data": {
      "image/png": "[encoded data removed]",
      "text/plain": [
       "<Figure size 1080x576 with 1 Axes>"
      ]
     },
     "metadata": {
      "needs_background": "light"
     },
     "output_type": "display_data"
    }
   ],
   "source": [
    "scores_df = pd.DataFrame(scores)\n",
    "\n",
    "scores_df.plot(kind='bar', figsize=(15, 8))"
   ]
  },
  {
   "cell_type": "markdown",
   "id": "df632953",
   "metadata": {},
   "source": [
    "# Regression "
   ]
  },
  {
   "cell_type": "code",
   "execution_count": 23,
   "id": "00515c2c",
   "metadata": {},
   "outputs": [],
   "source": [
    "from sklearn.pipeline import make_pipeline\n",
    "from sklearn.preprocessing import RobustScaler\n",
    "from sklearn.linear_model import LinearRegression, Lasso, ElasticNet\n",
    "from sklearn.kernel_ridge import KernelRidge\n",
    "\n",
    "from sklearn.ensemble import BaggingRegressor\n",
    "\n",
    "from sklearn.ensemble import GradientBoostingRegressor\n",
    "import xgboost as xgb\n",
    "import lightgbm as lgb\n",
    "from sklearn.ensemble import StackingRegressor\n",
    "\n",
    "from sklearn.model_selection import cross_val_score\n",
    "from sklearn.model_selection import cross_val_predict\n",
    "from sklearn.metrics import mean_squared_error"
   ]
  },
  {
   "cell_type": "code",
   "execution_count": 40,
   "id": "f8da7326",
   "metadata": {},
   "outputs": [],
   "source": [
    "from sklearn.model_selection import KFold\n",
    "array = df2.values\n",
    "X2 = array[:,1:12]\n",
    "y2 = array[:,0]\n",
    "\n",
    "kfold = KFold(n_splits=10, random_state=7,shuffle=True)\n"
   ]
  },
  {
   "cell_type": "code",
   "execution_count": 25,
   "id": "1da2aacd",
   "metadata": {},
   "outputs": [],
   "source": [
    "models_scores = [] # To store model scores\n",
    "\n",
    "def rmse(model):\n",
    "    model.fit(X2, y2)\n",
    "    y2_pred = model.predict(X2)\n",
    "    \n",
    "    return mean_squared_error(y2, y2_pred, squared= False) # squared= False > returns Root Mean Square Error   "
   ]
  },
  {
   "cell_type": "code",
   "execution_count": 26,
   "id": "dcfdaf58",
   "metadata": {},
   "outputs": [
    {
     "name": "stdout",
     "output_type": "stream",
     "text": [
      "LinearRegression Score= 1.8418599620617053\n"
     ]
    }
   ],
   "source": [
    "linear_regression = make_pipeline(LinearRegression())\n",
    "score = rmse(linear_regression)\n",
    "models_scores.append(['LinearRegression', score])\n",
    "print(f'LinearRegression Score= {score}')"
   ]
  },
  {
   "cell_type": "code",
   "execution_count": 27,
   "id": "9e6b8e09",
   "metadata": {},
   "outputs": [
    {
     "name": "stdout",
     "output_type": "stream",
     "text": [
      "Lasso Score= 1.8418623171880355\n"
     ]
    }
   ],
   "source": [
    "lasso = make_pipeline(RobustScaler(), Lasso(alpha=0.0005, random_state= 42))\n",
    "score = rmse(lasso)\n",
    "models_scores.append(['Lasso', score])\n",
    "print(f'Lasso Score= {score}')"
   ]
  },
  {
   "cell_type": "code",
   "execution_count": 28,
   "id": "2b67882c",
   "metadata": {},
   "outputs": [
    {
     "name": "stdout",
     "output_type": "stream",
     "text": [
      "KernelRidge Score= 1.211959715838577\n"
     ]
    }
   ],
   "source": [
    "kernel_ridge= KernelRidge(alpha=0.6, kernel='polynomial', degree=2, coef0=2.5)\n",
    "score = rmse(kernel_ridge)\n",
    "models_scores.append(['KernelRidge', score])\n",
    "print(f'KernelRidge Score= {score}')"
   ]
  },
  {
   "cell_type": "code",
   "execution_count": 29,
   "id": "bb7cd685",
   "metadata": {},
   "outputs": [
    {
     "name": "stdout",
     "output_type": "stream",
     "text": [
      "DecisionTreeRegressor Score= 0.0\n"
     ]
    }
   ],
   "source": [
    "from sklearn.tree import DecisionTreeRegressor\n",
    "decision_tree = DecisionTreeRegressor()\n",
    "score =rmse(decision_tree)\n",
    "models_scores.append(['DecisionTreeRegressor', score])\n",
    "print(f'DecisionTreeRegressor Score= {score}')"
   ]
  },
  {
   "cell_type": "code",
   "execution_count": 30,
   "id": "3b8089a8",
   "metadata": {},
   "outputs": [
    {
     "name": "stdout",
     "output_type": "stream",
     "text": [
      "SVR Score= 1.5736770811662364\n"
     ]
    }
   ],
   "source": [
    "from sklearn.svm import SVR\n",
    "from sklearn.preprocessing import StandardScaler\n",
    "SVR = make_pipeline(StandardScaler(), SVR(C=1.0, epsilon=0.2))\n",
    "score = rmse(SVR)\n",
    "models_scores.append(['SVR', score])\n",
    "print(f'SVR Score= {score}')"
   ]
  },
  {
   "cell_type": "code",
   "execution_count": 31,
   "id": "9104601a",
   "metadata": {},
   "outputs": [
    {
     "data": {
      "text/html": [
       "<div>\n",
       "<style scoped>\n",
       "    .dataframe tbody tr th:only-of-type {\n",
       "        vertical-align: middle;\n",
       "    }\n",
       "\n",
       "    .dataframe tbody tr th {\n",
       "        vertical-align: top;\n",
       "    }\n",
       "\n",
       "    .dataframe thead th {\n",
       "        text-align: right;\n",
       "    }\n",
       "</style>\n",
       "<table border=\"1\" class=\"dataframe\">\n",
       "  <thead>\n",
       "    <tr style=\"text-align: right;\">\n",
       "      <th></th>\n",
       "      <th>0</th>\n",
       "      <th>1</th>\n",
       "    </tr>\n",
       "  </thead>\n",
       "  <tbody>\n",
       "    <tr>\n",
       "      <th>3</th>\n",
       "      <td>DecisionTreeRegressor</td>\n",
       "      <td>0.000000</td>\n",
       "    </tr>\n",
       "    <tr>\n",
       "      <th>2</th>\n",
       "      <td>KernelRidge</td>\n",
       "      <td>1.211960</td>\n",
       "    </tr>\n",
       "    <tr>\n",
       "      <th>4</th>\n",
       "      <td>SVR</td>\n",
       "      <td>1.573677</td>\n",
       "    </tr>\n",
       "    <tr>\n",
       "      <th>0</th>\n",
       "      <td>LinearRegression</td>\n",
       "      <td>1.841860</td>\n",
       "    </tr>\n",
       "    <tr>\n",
       "      <th>1</th>\n",
       "      <td>Lasso</td>\n",
       "      <td>1.841862</td>\n",
       "    </tr>\n",
       "  </tbody>\n",
       "</table>\n",
       "</div>"
      ],
      "text/plain": [
       "                       0         1\n",
       "3  DecisionTreeRegressor  0.000000\n",
       "2            KernelRidge  1.211960\n",
       "4                    SVR  1.573677\n",
       "0       LinearRegression  1.841860\n",
       "1                  Lasso  1.841862"
      ]
     },
     "execution_count": 31,
     "metadata": {},
     "output_type": "execute_result"
    }
   ],
   "source": [
    "# Ranking the scores of each model\n",
    "pd.DataFrame(models_scores).sort_values(by=[1], ascending=True)"
   ]
  },
  {
   "cell_type": "markdown",
   "id": "18129dcb",
   "metadata": {},
   "source": [
    "# Bagging \n",
    "# Bagging Regressor"
   ]
  },
  {
   "cell_type": "code",
   "execution_count": 32,
   "id": "be403c86",
   "metadata": {},
   "outputs": [
    {
     "name": "stdout",
     "output_type": "stream",
     "text": [
      "RMSE for Bagging Regressor as base estimator Pipeline(steps=[('linearregression', LinearRegression())]) = 1.8443821225082058\n",
      "\n",
      "RMSE for Bagging Regressor as base estimator Pipeline(steps=[('robustscaler', RobustScaler()),\n",
      "                ('lasso', Lasso(alpha=0.0005, random_state=42))]) = 1.844362062573138\n",
      "\n",
      "RMSE for Bagging Regressor as base estimator Pipeline(steps=[('standardscaler', StandardScaler()),\n",
      "                ('svr', SVR(epsilon=0.2))]) = 1.5855012137492732\n",
      "\n",
      "RMSE for Bagging Regressor as base estimator DecisionTreeRegressor() = 0.6719951004285671\n",
      "\n",
      "RMSE for Bagging Regressor as base estimator KernelRidge(alpha=0.6, coef0=2.5, degree=2, kernel='polynomial') = 1.2669674318246733\n",
      "\n"
     ]
    }
   ],
   "source": [
    "\n",
    "def bagging_predictions(estimator):\n",
    "    \n",
    "    regr = BaggingRegressor(base_estimator=estimator,\n",
    "                            n_estimators=10,\n",
    "                            max_samples=1.0,\n",
    "                            bootstrap=True, # Samples are drawn with replacement\n",
    "                            n_jobs= -1,\n",
    "                            random_state=42).fit(X2, y2)\n",
    "\n",
    "    br_y_pred = regr.predict(X2)\n",
    "\n",
    "    rmse_val = mean_squared_error(y2, br_y_pred, squared= False) # squared= False > returns Root Mean Square Error   \n",
    "\n",
    "    print(f'RMSE for Bagging Regressor as base estimator {regr.base_estimator_} = {rmse_val}\\n')\n",
    "    return br_y_pred\n",
    "    \n",
    "predictions = np.column_stack((bagging_predictions(linear_regression),\n",
    "                              bagging_predictions(lasso),\n",
    "                              bagging_predictions(SVR),\n",
    "                              bagging_predictions(decision_tree),\n",
    "                              bagging_predictions(kernel_ridge)))                        \n"
   ]
  },
  {
   "cell_type": "markdown",
   "id": "e27d1549",
   "metadata": {},
   "source": [
    "# Boosting "
   ]
  },
  {
   "cell_type": "code",
   "execution_count": 33,
   "id": "10cc3b72",
   "metadata": {},
   "outputs": [
    {
     "name": "stdout",
     "output_type": "stream",
     "text": [
      "GradientBoostingRegressor Score= 0.7501521708803838\n"
     ]
    }
   ],
   "source": [
    "gradient_boosting_regressor= GradientBoostingRegressor(n_estimators=100, learning_rate=0.05,\n",
    "                                   max_depth=4, max_features='sqrt',\n",
    "                                   random_state = 42)\n",
    "\n",
    "score = rmse(gradient_boosting_regressor)\n",
    "models_scores.append(['GradientBoostingRegressor', score])\n",
    "print(f'GradientBoostingRegressor Score= {score}')"
   ]
  },
  {
   "cell_type": "code",
   "execution_count": 34,
   "id": "c633805a",
   "metadata": {},
   "outputs": [
    {
     "name": "stdout",
     "output_type": "stream",
     "text": [
      "XGBRegressor Score= 0.9498022430039007\n"
     ]
    }
   ],
   "source": [
    "xgb_regressor= xgb.XGBRegressor(learning_rate=0.05, max_depth=3, n_estimators=100, random_state = 42)\n",
    "score = rmse(xgb_regressor)\n",
    "models_scores.append(['XGBRegressor', score])\n",
    "print(f'XGBRegressor Score= {score}')"
   ]
  },
  {
   "cell_type": "code",
   "execution_count": 35,
   "id": "b81f88fc",
   "metadata": {},
   "outputs": [
    {
     "name": "stdout",
     "output_type": "stream",
     "text": [
      "LGBMRegressor Score= 1.1472759797356749\n"
     ]
    }
   ],
   "source": [
    "lgbm_regressor= lgb.LGBMRegressor(objective='regression',num_leaves=5,\n",
    "                              learning_rate=0.05, n_estimators=100,\n",
    "                              random_state = 42)\n",
    "score = rmse(lgbm_regressor)\n",
    "models_scores.append(['LGBMRegressor', score])\n",
    "print(f'LGBMRegressor Score= {score}')"
   ]
  },
  {
   "cell_type": "code",
   "execution_count": 36,
   "id": "c0e6da18",
   "metadata": {},
   "outputs": [
    {
     "data": {
      "text/html": [
       "<div>\n",
       "<style scoped>\n",
       "    .dataframe tbody tr th:only-of-type {\n",
       "        vertical-align: middle;\n",
       "    }\n",
       "\n",
       "    .dataframe tbody tr th {\n",
       "        vertical-align: top;\n",
       "    }\n",
       "\n",
       "    .dataframe thead th {\n",
       "        text-align: right;\n",
       "    }\n",
       "</style>\n",
       "<table border=\"1\" class=\"dataframe\">\n",
       "  <thead>\n",
       "    <tr style=\"text-align: right;\">\n",
       "      <th></th>\n",
       "      <th>0</th>\n",
       "      <th>1</th>\n",
       "    </tr>\n",
       "  </thead>\n",
       "  <tbody>\n",
       "    <tr>\n",
       "      <th>3</th>\n",
       "      <td>DecisionTreeRegressor</td>\n",
       "      <td>0.000000</td>\n",
       "    </tr>\n",
       "    <tr>\n",
       "      <th>5</th>\n",
       "      <td>GradientBoostingRegressor</td>\n",
       "      <td>0.750152</td>\n",
       "    </tr>\n",
       "    <tr>\n",
       "      <th>6</th>\n",
       "      <td>XGBRegressor</td>\n",
       "      <td>0.949802</td>\n",
       "    </tr>\n",
       "    <tr>\n",
       "      <th>7</th>\n",
       "      <td>LGBMRegressor</td>\n",
       "      <td>1.147276</td>\n",
       "    </tr>\n",
       "    <tr>\n",
       "      <th>2</th>\n",
       "      <td>KernelRidge</td>\n",
       "      <td>1.211960</td>\n",
       "    </tr>\n",
       "    <tr>\n",
       "      <th>4</th>\n",
       "      <td>SVR</td>\n",
       "      <td>1.573677</td>\n",
       "    </tr>\n",
       "    <tr>\n",
       "      <th>0</th>\n",
       "      <td>LinearRegression</td>\n",
       "      <td>1.841860</td>\n",
       "    </tr>\n",
       "    <tr>\n",
       "      <th>1</th>\n",
       "      <td>Lasso</td>\n",
       "      <td>1.841862</td>\n",
       "    </tr>\n",
       "  </tbody>\n",
       "</table>\n",
       "</div>"
      ],
      "text/plain": [
       "                           0         1\n",
       "3      DecisionTreeRegressor  0.000000\n",
       "5  GradientBoostingRegressor  0.750152\n",
       "6               XGBRegressor  0.949802\n",
       "7              LGBMRegressor  1.147276\n",
       "2                KernelRidge  1.211960\n",
       "4                        SVR  1.573677\n",
       "0           LinearRegression  1.841860\n",
       "1                      Lasso  1.841862"
      ]
     },
     "execution_count": 36,
     "metadata": {},
     "output_type": "execute_result"
    }
   ],
   "source": [
    "# Ranking the scores of each model\n",
    "pd.DataFrame(models_scores).sort_values(by=[1], ascending=True)"
   ]
  },
  {
   "cell_type": "markdown",
   "id": "6e1a3498",
   "metadata": {},
   "source": [
    "# Stacking"
   ]
  },
  {
   "cell_type": "code",
   "execution_count": 37,
   "id": "2744764d",
   "metadata": {},
   "outputs": [
    {
     "name": "stdout",
     "output_type": "stream",
     "text": [
      "rmse= 1.059504336814091\n"
     ]
    }
   ],
   "source": [
    "estimators = [ ('decision_tree', decision_tree), ('SVR', SVR)]\n",
    "\n",
    "stack = StackingRegressor(estimators=estimators, cv= kfold, n_jobs= -1, passthrough = True)\n",
    "\n",
    "stack.fit(X2, y2)\n",
    "\n",
    "pred = stack.predict(X2)\n",
    "\n",
    "rmse_val = mean_squared_error(y2, pred, squared= False) # squared= False > returns Root Mean Square Error    \n",
    "models_scores.append(['Stacking', rmse_val])\n",
    "print(f'rmse= {rmse_val}')                      "
   ]
  },
  {
   "cell_type": "markdown",
   "id": "eb91d05f",
   "metadata": {},
   "source": [
    "# Comparing Models"
   ]
  },
  {
   "cell_type": "code",
   "execution_count": 38,
   "id": "d7e17c97",
   "metadata": {},
   "outputs": [
    {
     "data": {
      "text/html": [
       "<div>\n",
       "<style scoped>\n",
       "    .dataframe tbody tr th:only-of-type {\n",
       "        vertical-align: middle;\n",
       "    }\n",
       "\n",
       "    .dataframe tbody tr th {\n",
       "        vertical-align: top;\n",
       "    }\n",
       "\n",
       "    .dataframe thead th {\n",
       "        text-align: right;\n",
       "    }\n",
       "</style>\n",
       "<table border=\"1\" class=\"dataframe\">\n",
       "  <thead>\n",
       "    <tr style=\"text-align: right;\">\n",
       "      <th></th>\n",
       "      <th>Models</th>\n",
       "      <th>Rmse_vales</th>\n",
       "    </tr>\n",
       "  </thead>\n",
       "  <tbody>\n",
       "    <tr>\n",
       "      <th>3</th>\n",
       "      <td>DecisionTreeRegressor</td>\n",
       "      <td>0.000000</td>\n",
       "    </tr>\n",
       "    <tr>\n",
       "      <th>5</th>\n",
       "      <td>GradientBoostingRegressor</td>\n",
       "      <td>0.750152</td>\n",
       "    </tr>\n",
       "    <tr>\n",
       "      <th>6</th>\n",
       "      <td>XGBRegressor</td>\n",
       "      <td>0.949802</td>\n",
       "    </tr>\n",
       "    <tr>\n",
       "      <th>8</th>\n",
       "      <td>Stacking</td>\n",
       "      <td>1.059504</td>\n",
       "    </tr>\n",
       "    <tr>\n",
       "      <th>7</th>\n",
       "      <td>LGBMRegressor</td>\n",
       "      <td>1.147276</td>\n",
       "    </tr>\n",
       "    <tr>\n",
       "      <th>2</th>\n",
       "      <td>KernelRidge</td>\n",
       "      <td>1.211960</td>\n",
       "    </tr>\n",
       "    <tr>\n",
       "      <th>4</th>\n",
       "      <td>SVR</td>\n",
       "      <td>1.573677</td>\n",
       "    </tr>\n",
       "    <tr>\n",
       "      <th>0</th>\n",
       "      <td>LinearRegression</td>\n",
       "      <td>1.841860</td>\n",
       "    </tr>\n",
       "    <tr>\n",
       "      <th>1</th>\n",
       "      <td>Lasso</td>\n",
       "      <td>1.841862</td>\n",
       "    </tr>\n",
       "  </tbody>\n",
       "</table>\n",
       "</div>"
      ],
      "text/plain": [
       "                      Models  Rmse_vales\n",
       "3      DecisionTreeRegressor    0.000000\n",
       "5  GradientBoostingRegressor    0.750152\n",
       "6               XGBRegressor    0.949802\n",
       "8                   Stacking    1.059504\n",
       "7              LGBMRegressor    1.147276\n",
       "2                KernelRidge    1.211960\n",
       "4                        SVR    1.573677\n",
       "0           LinearRegression    1.841860\n",
       "1                      Lasso    1.841862"
      ]
     },
     "execution_count": 38,
     "metadata": {},
     "output_type": "execute_result"
    }
   ],
   "source": [
    "models_df = pd.DataFrame(models_scores).sort_values(by=[1], ascending=True)\n",
    "models_df.columns = ['Models', 'Rmse_vales']\n",
    "models_df"
   ]
  },
  {
   "cell_type": "code",
   "execution_count": 41,
   "id": "bc047523",
   "metadata": {},
   "outputs": [
    {
     "data": {
      "text/plain": [
       "<AxesSubplot:xlabel='Models'>"
      ]
     },
     "execution_count": 41,
     "metadata": {},
     "output_type": "execute_result"
    },
    {
     "data": {
      "image/png": "[encoded data removed]",
      "text/plain": [
       "<Figure size 1080x576 with 1 Axes>"
      ]
     },
     "metadata": {
      "needs_background": "light"
     },
     "output_type": "display_data"
    }
   ],
   "source": [
    "models_df.plot(x='Models', y='Rmse_vales', kind='bar', figsize=(15, 8),color='purple')"
   ]
  },
  {
   "cell_type": "code",
   "execution_count": null,
   "id": "89d1f66a",
   "metadata": {},
   "outputs": [],
   "source": []
  }
 ],
 "metadata": {
  "kernelspec": {
   "display_name": "Python 3 (ipykernel)",
   "language": "python",
   "name": "python3"
  },
  "language_info": {
   "codemirror_mode": {
    "name": "ipython",
    "version": 3
   },
   "file_extension": ".py",
   "mimetype": "text/x-python",
   "name": "python",
   "nbconvert_exporter": "python",
   "pygments_lexer": "ipython3",
   "version": "3.9.12"
  }
 },
 "nbformat": 4,
 "nbformat_minor": 5
}
